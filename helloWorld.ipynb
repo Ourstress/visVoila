{
  "nbformat": 4,
  "nbformat_minor": 0,
  "metadata": {
    "colab": {
      "name": "Untitled0.ipynb",
      "provenance": [],
      "collapsed_sections": []
    },
    "kernelspec": {
      "name": "python3",
      "display_name": "Python 3"
    }
  },
  "cells": [
    {
      "cell_type": "markdown",
      "metadata": {
        "id": "3sq3Onh63uEm",
        "colab_type": "text"
      },
      "source": [
        "### Hello world"
      ]
    }
  ]
}